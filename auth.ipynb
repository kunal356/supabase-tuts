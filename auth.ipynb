{
 "cells": [
  {
   "cell_type": "markdown",
   "id": "90042b33",
   "metadata": {},
   "source": [
    "## Auth"
   ]
  },
  {
   "cell_type": "code",
   "execution_count": 1,
   "id": "d625729c",
   "metadata": {},
   "outputs": [
    {
     "name": "stdout",
     "output_type": "stream",
     "text": [
      "True\n"
     ]
    }
   ],
   "source": [
    "from dotenv import load_dotenv\n",
    "print(load_dotenv())"
   ]
  },
  {
   "cell_type": "code",
   "execution_count": 2,
   "id": "d3e81450",
   "metadata": {},
   "outputs": [],
   "source": [
    "import os\n",
    "from supabase import create_client, Client"
   ]
  },
  {
   "cell_type": "markdown",
   "id": "28bda625",
   "metadata": {},
   "source": [
    "### Setup Supabase database"
   ]
  },
  {
   "cell_type": "code",
   "execution_count": 3,
   "id": "84cd2141",
   "metadata": {},
   "outputs": [],
   "source": [
    "url: str = os.environ.get(\"SUPABASE_URL\")\n",
    "key: str = os.environ.get(\"SUPABASE_KEY\")\n",
    "supabase: Client = create_client(url, key)"
   ]
  },
  {
   "cell_type": "markdown",
   "id": "d37a5734",
   "metadata": {},
   "source": [
    "### 1. Sign up a user"
   ]
  },
  {
   "cell_type": "code",
   "execution_count": null,
   "id": "7fc8e5b5",
   "metadata": {},
   "outputs": [],
   "source": [
    "email: str = \"email@gmail.com\"\n",
    "password: str = \"pass1234\"\n",
    "user = supabase.auth.sign_up({\"email\":email,\"password\":password})"
   ]
  },
  {
   "cell_type": "markdown",
   "id": "9fcff9c6",
   "metadata": {},
   "source": [
    "### 2. Sign out a user"
   ]
  },
  {
   "cell_type": "code",
   "execution_count": 18,
   "id": "491e1b44",
   "metadata": {},
   "outputs": [],
   "source": [
    "supabase.auth.sign_out()"
   ]
  },
  {
   "cell_type": "markdown",
   "id": "311b897e",
   "metadata": {},
   "source": [
    "### 3. Sign in a user"
   ]
  },
  {
   "cell_type": "code",
   "execution_count": null,
   "id": "b34c6f4a",
   "metadata": {},
   "outputs": [],
   "source": [
    "from gotrue.errors import AuthApiError\n",
    "email: str = \"email@gmail.com\"\n",
    "password: str = \"pass1234\"\n",
    "try:\n",
    "    session = supabase.auth.sign_in_with_password({ \"email\": email, \"password\": password })\n",
    "    print(session.session.access_token)\n",
    "except AuthApiError as e:\n",
    "    print(e)\n",
    "\n",
    "# supabase.auth.sign_out()"
   ]
  },
  {
   "cell_type": "markdown",
   "id": "22abbb70",
   "metadata": {},
   "source": [
    "### Row Level Security\n",
    "In the following snippet RLS was enabled for the users table and policy was set to only allow read access to authenticated users.\n",
    "We only get the data after user has signedin successfully."
   ]
  },
  {
   "cell_type": "code",
   "execution_count": null,
   "id": "866bd3fb",
   "metadata": {},
   "outputs": [],
   "source": [
    "from gotrue.errors import AuthApiError\n",
    "email: str = \"email@gmail.com\"\n",
    "password: str = \"pass1234\"\n",
    "supabase.auth.sign_out()\n",
    "data = supabase.table(\"users\").select(\"*\").execute()\n",
    "print(\"Data before sign in: \", data)\n",
    "try:\n",
    "    session = supabase.auth.sign_in_with_password({ \"email\": email, \"password\": password })\n",
    "    print(session.session.access_token)\n",
    "except AuthApiError as e:\n",
    "    print(e)\n",
    "data = supabase.table(\"users\").select(\"*\").execute()\n",
    "print(\"Data after sign in: \", data)\n",
    "# supabase.auth.sign_out()"
   ]
  },
  {
   "cell_type": "code",
   "execution_count": null,
   "id": "d40d8501",
   "metadata": {},
   "outputs": [],
   "source": []
  }
 ],
 "metadata": {
  "kernelspec": {
   "display_name": "supabase-tuts",
   "language": "python",
   "name": "python3"
  },
  "language_info": {
   "codemirror_mode": {
    "name": "ipython",
    "version": 3
   },
   "file_extension": ".py",
   "mimetype": "text/x-python",
   "name": "python",
   "nbconvert_exporter": "python",
   "pygments_lexer": "ipython3",
   "version": "3.13.5"
  }
 },
 "nbformat": 4,
 "nbformat_minor": 5
}
