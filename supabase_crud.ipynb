{
 "cells": [
  {
   "cell_type": "code",
   "execution_count": 1,
   "id": "01918fab",
   "metadata": {},
   "outputs": [
    {
     "name": "stdout",
     "output_type": "stream",
     "text": [
      "True\n"
     ]
    }
   ],
   "source": [
    "from dotenv import load_dotenv\n",
    "print(load_dotenv())"
   ]
  },
  {
   "cell_type": "code",
   "execution_count": 2,
   "id": "ea14982f",
   "metadata": {},
   "outputs": [],
   "source": [
    "import os\n",
    "from supabase import create_client, Client"
   ]
  },
  {
   "cell_type": "markdown",
   "id": "5437ae5a",
   "metadata": {},
   "source": [
    "### Setup Supabase database"
   ]
  },
  {
   "cell_type": "code",
   "execution_count": 3,
   "id": "2bc2327b",
   "metadata": {},
   "outputs": [],
   "source": [
    "url: str = os.environ.get(\"SUPABASE_URL\")\n",
    "key: str = os.environ.get(\"SUPABASE_KEY\")\n",
    "supabase: Client = create_client(url, key)"
   ]
  },
  {
   "cell_type": "markdown",
   "id": "b0d62498",
   "metadata": {},
   "source": [
    "### 1. Select all rows"
   ]
  },
  {
   "cell_type": "code",
   "execution_count": 7,
   "id": "bc76c13a",
   "metadata": {},
   "outputs": [],
   "source": [
    "response = (\n",
    "    supabase.table(\"users\")\n",
    "    .select(\"*\")\n",
    "    .execute()\n",
    ")"
   ]
  },
  {
   "cell_type": "code",
   "execution_count": 8,
   "id": "5193cb58",
   "metadata": {},
   "outputs": [
    {
     "name": "stdout",
     "output_type": "stream",
     "text": [
      "data=[{'id': 1, 'created_at': '2025-07-24T19:15:17.078988+00:00', 'first_name': 'James', 'last_name': 'Clutter', 'email': 'james.clutter@gmail.com', 'age': 23}, {'id': 2, 'created_at': '2025-07-24T19:20:12.741664+00:00', 'first_name': 'Clark', 'last_name': 'Clinton', 'email': 'clark.clinton@gmail.com', 'age': 24}] count=None\n"
     ]
    }
   ],
   "source": [
    "print(response)"
   ]
  },
  {
   "cell_type": "markdown",
   "id": "f697e320",
   "metadata": {},
   "source": [
    "### 2. Filtering"
   ]
  },
  {
   "cell_type": "code",
   "execution_count": 9,
   "id": "61718e99",
   "metadata": {},
   "outputs": [
    {
     "name": "stdout",
     "output_type": "stream",
     "text": [
      "data=[] count=None\n"
     ]
    }
   ],
   "source": [
    "data = (\n",
    "    supabase.table(\"users\")\n",
    "    .select(\"id\", \"first_name\")\n",
    "    .eq(\"first_name\", \"Item\")\n",
    "    .execute()\n",
    ")\n",
    "print(data)"
   ]
  },
  {
   "cell_type": "markdown",
   "id": "ff07f904",
   "metadata": {},
   "source": [
    "### 3. Insert Data\n"
   ]
  },
  {
   "cell_type": "code",
   "execution_count": 15,
   "id": "b81c715a",
   "metadata": {},
   "outputs": [
    {
     "name": "stdout",
     "output_type": "stream",
     "text": [
      "data=[{'id': 1, 'created_at': '2025-07-24T19:15:17.078988+00:00', 'first_name': 'James', 'last_name': 'Clutter', 'email': 'james.clutter@gmail.com', 'age': 23}, {'id': 2, 'created_at': '2025-07-24T19:20:12.741664+00:00', 'first_name': 'Clark', 'last_name': 'Clinton', 'email': 'clark.clinton@gmail.com', 'age': 24}, {'id': 3, 'created_at': '2025-07-24T19:57:17.51511+00:00', 'first_name': 'Sonic', 'last_name': 'Boom', 'email': 'sonic.boom@gmail.com', 'age': 27}, {'id': 4, 'created_at': '2025-07-24T19:04:34.906356+00:00', 'first_name': 'Sonic1', 'last_name': 'Boom', 'email': 'sonic1.boom@gmail.com', 'age': 25}] count=None\n"
     ]
    }
   ],
   "source": [
    "from datetime import datetime, timedelta\n",
    "created_at = datetime.now() - timedelta(hours=2)\n",
    "insert_data = (\n",
    "    supabase.table(\"users\")\n",
    "    .insert({\n",
    "            \"id\": 4,\n",
    "            \"first_name\": \"Sonic1\", \n",
    "             \"last_name\": \"Boom\",\n",
    "             \"email\":\"sonic1.boom@gmail.com\",\n",
    "             \"age\": 25,\n",
    "             \"created_at\": str(created_at)\n",
    "             })\n",
    "    .execute()\n",
    ")\n",
    "data = (\n",
    "    supabase.table(\"users\")\n",
    "    .select(\"*\")\n",
    "    .execute()\n",
    ")\n",
    "print(data)"
   ]
  },
  {
   "cell_type": "markdown",
   "id": "9b7acee0",
   "metadata": {},
   "source": [
    "### 4. Update Data"
   ]
  },
  {
   "cell_type": "code",
   "execution_count": 16,
   "id": "b4a3b235",
   "metadata": {},
   "outputs": [
    {
     "name": "stdout",
     "output_type": "stream",
     "text": [
      "data=[{'id': 1, 'created_at': '2025-07-24T19:15:17.078988+00:00', 'first_name': 'Bella', 'last_name': 'Clutter', 'email': 'james.clutter@gmail.com', 'age': 23}] count=None\n"
     ]
    }
   ],
   "source": [
    "data = (\n",
    "    supabase.table(\"users\")\n",
    "    .update({\"first_name\": \"Bella\"})\n",
    "    .eq(\"id\", 1)\n",
    "    .execute()\n",
    "    )\n",
    "\n",
    "data = (\n",
    "    supabase.table(\"users\")\n",
    "    .select(\"*\")\n",
    "    .eq(\"id\", 1)\n",
    "    .execute()\n",
    ")\n",
    "print(data)"
   ]
  },
  {
   "cell_type": "markdown",
   "id": "6b0bc609",
   "metadata": {},
   "source": [
    "### 5. Delete Data"
   ]
  },
  {
   "cell_type": "code",
   "execution_count": 17,
   "id": "a9b52422",
   "metadata": {},
   "outputs": [
    {
     "name": "stdout",
     "output_type": "stream",
     "text": [
      "data=[{'id': 2, 'created_at': '2025-07-24T19:20:12.741664+00:00', 'first_name': 'Clark', 'last_name': 'Clinton', 'email': 'clark.clinton@gmail.com', 'age': 24}, {'id': 3, 'created_at': '2025-07-24T19:57:17.51511+00:00', 'first_name': 'Sonic', 'last_name': 'Boom', 'email': 'sonic.boom@gmail.com', 'age': 27}, {'id': 4, 'created_at': '2025-07-24T19:04:34.906356+00:00', 'first_name': 'Sonic1', 'last_name': 'Boom', 'email': 'sonic1.boom@gmail.com', 'age': 25}] count=None\n"
     ]
    }
   ],
   "source": [
    "data = (\n",
    "    supabase.table(\"users\")\n",
    "    .delete()\n",
    "    .eq(\"id\", 1)\n",
    "    .execute()\n",
    ")\n",
    "\n",
    "data = (\n",
    "    supabase.table(\"users\")\n",
    "    .select(\"*\")\n",
    "    .execute()\n",
    ")\n",
    "print(data)"
   ]
  },
  {
   "cell_type": "code",
   "execution_count": null,
   "id": "05eb37ad",
   "metadata": {},
   "outputs": [],
   "source": []
  }
 ],
 "metadata": {
  "kernelspec": {
   "display_name": "supabase-tuts",
   "language": "python",
   "name": "python3"
  },
  "language_info": {
   "codemirror_mode": {
    "name": "ipython",
    "version": 3
   },
   "file_extension": ".py",
   "mimetype": "text/x-python",
   "name": "python",
   "nbconvert_exporter": "python",
   "pygments_lexer": "ipython3",
   "version": "3.13.5"
  }
 },
 "nbformat": 4,
 "nbformat_minor": 5
}
